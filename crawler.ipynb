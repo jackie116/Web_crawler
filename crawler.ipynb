{
 "metadata": {
  "language_info": {
   "codemirror_mode": {
    "name": "ipython",
    "version": 3
   },
   "file_extension": ".py",
   "mimetype": "text/x-python",
   "name": "python",
   "nbconvert_exporter": "python",
   "pygments_lexer": "ipython3",
   "version": "3.8.5-final"
  },
  "orig_nbformat": 2,
  "kernelspec": {
   "name": "python_defaultSpec_1600823335617",
   "display_name": "Python 3.8.5 32-bit"
  }
 },
 "nbformat": 4,
 "nbformat_minor": 2,
 "cells": [
  {
   "source": [
    "### ETtoday旅遊雲"
   ],
   "cell_type": "markdown",
   "metadata": {}
  },
  {
   "cell_type": "code",
   "execution_count": null,
   "metadata": {},
   "outputs": [],
   "source": [
    "import requests\n",
    "from bs4 import BeautifulSoup\n",
    "\n",
    "url='https://travel.ettoday.net/category/%E6%A1%83%E5%9C%92/'\n",
    "\n",
    "response=requests.get(url)"
   ]
  },
  {
   "source": [
    "### udn_past24"
   ],
   "cell_type": "markdown",
   "metadata": {}
  },
  {
   "cell_type": "code",
   "execution_count": 100,
   "metadata": {},
   "outputs": [],
   "source": [
    "import requests\n",
    "from bs4 import BeautifulSoup\n",
    "import pandas as pd\n",
    "import re\n",
    "\n",
    "url='https://global.udn.com/search/tagging/1020/%E9%81%8E%E5%8E%BB24%E5%B0%8F%E6%99%82'\n",
    "response=requests.get(url)\n",
    "soup=BeautifulSoup(response.text)"
   ]
  },
  {
   "cell_type": "code",
   "execution_count": null,
   "metadata": {},
   "outputs": [],
   "source": [
    "info=soup.find_all('article',class_='area_card')"
   ]
  },
  {
   "cell_type": "code",
   "execution_count": 63,
   "metadata": {},
   "outputs": [],
   "source": [
    "news=info[0].find_all('a')"
   ]
  },
  {
   "cell_type": "code",
   "execution_count": 108,
   "metadata": {
    "tags": []
   },
   "outputs": [],
   "source": [
    "news_link=[]\n",
    "news_date=[]\n",
    "news_title=[]\n",
    "news_picture=[]\n",
    "for i in news:\n",
    "    news_link.append(i['href'])\n",
    "    news_title.append(i.find('h2').string)\n",
    "    news_date.append(i.find('span',class_='date').string)\n",
    "    news_picture.append(i.find(attrs={'data-original':re.compile('https.*?')})['data-original'])"
   ]
  },
  {
   "cell_type": "code",
   "execution_count": 109,
   "metadata": {},
   "outputs": [],
   "source": [
    "col_names=['標題','日期','連結','圖片']\n",
    "df=pd.DataFrame([news_title,news_date,news_link,news_picture]).T\n",
    "df.columns=col_names"
   ]
  },
  {
   "source": [
    "### udn_nba"
   ],
   "cell_type": "markdown",
   "metadata": {}
  },
  {
   "cell_type": "code",
   "execution_count": null,
   "metadata": {},
   "outputs": [],
   "source": []
  },
  {
   "source": [
    "### 博客來中文30日暢銷榜"
   ],
   "cell_type": "markdown",
   "metadata": {}
  },
  {
   "source": [
    "import requests\n",
    "import re\n",
    "from bs4 import BeautifulSoup\n",
    "\n",
    "url='https://www.books.com.tw/web/sys_saletopb/books/?attribute=30'\n",
    "response=requests.get(url)\n",
    "soup=BeautifulSoup(response.text)"
   ],
   "cell_type": "code",
   "metadata": {},
   "execution_count": 2,
   "outputs": []
  },
  {
   "cell_type": "code",
   "execution_count": null,
   "metadata": {},
   "outputs": [],
   "source": []
  }
 ]
}