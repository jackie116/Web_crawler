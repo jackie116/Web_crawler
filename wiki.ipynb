{
 "metadata": {
  "language_info": {
   "codemirror_mode": {
    "name": "ipython",
    "version": 3
   },
   "file_extension": ".py",
   "mimetype": "text/x-python",
   "name": "python",
   "nbconvert_exporter": "python",
   "pygments_lexer": "ipython3",
   "version": "3.8.5-final"
  },
  "orig_nbformat": 2,
  "kernelspec": {
   "name": "python_defaultSpec_1600304898185",
   "display_name": "Python 3.8.5 32-bit"
  }
 },
 "nbformat": 4,
 "nbformat_minor": 2,
 "cells": [
  {
   "source": [
    "# Requests+beautifulsoup4"
   ],
   "cell_type": "markdown",
   "metadata": {}
  },
  {
   "cell_type": "code",
   "execution_count": null,
   "metadata": {},
   "outputs": [],
   "source": [
    "import requests\n",
    "\n",
    "r=requests.get('https://en.wikipedia.org/')"
   ]
  },
  {
   "cell_type": "code",
   "execution_count": null,
   "metadata": {},
   "outputs": [],
   "source": [
    "r.ok"
   ]
  },
  {
   "cell_type": "code",
   "execution_count": null,
   "metadata": {},
   "outputs": [],
   "source": [
    "r"
   ]
  },
  {
   "source": [
    "2XX成功/3XX重新導向/4XX用戶端錯誤/5XX伺服器端錯誤"
   ],
   "cell_type": "markdown",
   "metadata": {}
  },
  {
   "cell_type": "code",
   "execution_count": null,
   "metadata": {
    "tags": []
   },
   "outputs": [],
   "source": [
    "print(len(r.text))"
   ]
  },
  {
   "cell_type": "code",
   "execution_count": null,
   "metadata": {},
   "outputs": [],
   "source": [
    "from bs4 import BeautifulSoup\n",
    "\n",
    "soup=BeautifulSoup(r.text,'html.parser')"
   ]
  },
  {
   "source": [
    "還有'lxml' 'html5lib' 等剖析器"
   ],
   "cell_type": "markdown",
   "metadata": {}
  },
  {
   "source": [
    "抓title"
   ],
   "cell_type": "markdown",
   "metadata": {}
  },
  {
   "cell_type": "code",
   "execution_count": null,
   "metadata": {
    "tags": []
   },
   "outputs": [],
   "source": [
    "print(soup.title)"
   ]
  },
  {
   "source": [
    "抓<a href='OOXX'>...<a>內所有超連結OOXX"
   ],
   "cell_type": "markdown",
   "metadata": {}
  },
  {
   "cell_type": "code",
   "execution_count": null,
   "metadata": {
    "tags": []
   },
   "outputs": [],
   "source": [
    "for link in soup.find_all('a'):\n",
    "    print(link.get('href'))"
   ]
  },
  {
   "source": [
    "抓div內特定class"
   ],
   "cell_type": "markdown",
   "metadata": {}
  },
  {
   "cell_type": "code",
   "execution_count": null,
   "metadata": {},
   "outputs": [],
   "source": [
    "soup.find_all('div',class_='otd-footer')"
   ]
  },
  {
   "source": [
    "抓 a tag下特定title"
   ],
   "cell_type": "markdown",
   "metadata": {}
  },
  {
   "cell_type": "code",
   "execution_count": null,
   "metadata": {},
   "outputs": [],
   "source": [
    "soup.find('a',title='Special:Statistics').contents"
   ]
  },
  {
   "source": [
    "## 蘋果賽馬網(網站已改版，無法用一般方法查詢)"
   ],
   "cell_type": "markdown",
   "metadata": {}
  },
  {
   "cell_type": "code",
   "execution_count": null,
   "metadata": {
    "tags": []
   },
   "outputs": [],
   "source": [
    "import requests\n",
    "from bs4 import BeautifulSoup\n",
    "\n",
    "url='https://racing.appledaily.com.hk/race-day/race?raceDay=2691'\n",
    "\n",
    "r=requests.get(url)\n",
    "\n",
    "soup=BeautifulSoup(r.text,'html.parser')\n",
    "print(soup.title)"
   ]
  },
  {
   "cell_type": "code",
   "execution_count": null,
   "metadata": {},
   "outputs": [],
   "source": [
    "soup.find_all('select')"
   ]
  },
  {
   "cell_type": "code",
   "execution_count": null,
   "metadata": {},
   "outputs": [],
   "source": [
    "import time\n",
    "import re\n",
    "\n",
    "race_number=23795\n",
    "race_list=[]\n",
    "\n",
    "for i in range(8):\n",
    "    temp=str(race_number)\n",
    "    race_list.append('https://racing.appledaily.com.hk/race-day/race?raceDay=2691'+f'&race={temp}')\n",
    "    race_number+=1"
   ]
  },
  {
   "cell_type": "code",
   "execution_count": null,
   "metadata": {},
   "outputs": [],
   "source": [
    "race_list"
   ]
  },
  {
   "cell_type": "code",
   "execution_count": null,
   "metadata": {},
   "outputs": [],
   "source": [
    "import pandas as pd\n",
    "import html5lib\n",
    "data=pd.read_html('https://racing.appledaily.com.hk/race-day/race?raceDay=2691&race=23795')\n",
    "print(len(data))"
   ]
  },
  {
   "source": [
    "## 蝦皮購物"
   ],
   "cell_type": "markdown",
   "metadata": {}
  },
  {
   "source": [
    "import requests\n",
    "from bs4 import BeautifulSoup\n",
    "\n",
    "url = 'https://shopee.tw/search?keyword=ps4%20pro%20%E4%B8%BB%E6%A9%9F'\n",
    "r=requests.get(url,allow_redirects=False)\n",
    "print(r.status_code)\n",
    "print(len(r.text))"
   ],
   "cell_type": "code",
   "metadata": {
    "tags": []
   },
   "execution_count": null,
   "outputs": []
  },
  {
   "cell_type": "code",
   "execution_count": null,
   "metadata": {
    "tags": []
   },
   "outputs": [],
   "source": [
    "soup=BeautifulSoup(r.text,'html.parser')\n",
    "items=soup.find_all('div', class_=\"col-xs-2-4 shopee-search-item-result__item\")\n",
    "print(len(items))"
   ]
  },
  {
   "source": [
    "有些網站會在中途把使用者重新導向，因此要加 allow_redirects=False"
   ],
   "cell_type": "markdown",
   "metadata": {}
  },
  {
   "cell_type": "code",
   "execution_count": null,
   "metadata": {
    "tags": []
   },
   "outputs": [],
   "source": [
    "print(r.history)\n",
    "print(r.url)"
   ]
  },
  {
   "source": [
    "使用useragent告訴server你的身分，避免被重新導向"
   ],
   "cell_type": "markdown",
   "metadata": {}
  },
  {
   "cell_type": "code",
   "execution_count": null,
   "metadata": {
    "tags": []
   },
   "outputs": [],
   "source": [
    "from fake_useragent import UserAgent\n",
    "ua=UserAgent()\n",
    "for i in range(5):\n",
    "    print(ua.random)\n",
    "    print('*------*')\n"
   ]
  },
  {
   "source": [
    "有些網站會有 robots.txt 寫可使用的User-Agent和其他規定"
   ],
   "cell_type": "markdown",
   "metadata": {}
  },
  {
   "cell_type": "code",
   "execution_count": null,
   "metadata": {
    "tags": []
   },
   "outputs": [],
   "source": [
    "headers={\n",
    "    'User-Agent':'Googlebot'\n",
    "}\n",
    "r=requests.get(url,headers=headers,allow_redirects=True)\n",
    "print(r.status_code)\n",
    "print(r.history)\n",
    "print(r.url)\n",
    "\n",
    "soup=BeautifulSoup(r.text,'html.parser')\n",
    "items=soup.find_all('div', class_='col-xs-2-4 shopee-search-item-result__item')\n",
    "print(len(items))"
   ]
  },
  {
   "source": [
    "有些商品prices有區間，因此下面程式有錯"
   ],
   "cell_type": "markdown",
   "metadata": {}
  },
  {
   "cell_type": "code",
   "execution_count": null,
   "metadata": {
    "tags": []
   },
   "outputs": [],
   "source": [
    "contents=soup.find_all('div',class_='_1NoI8_')\n",
    "prices=soup.find_all('span',class_='_341bF0')\n",
    "all_items=soup.find_all('div',class_='col-xs-2-4 shopee-search-item-result__item')\n",
    "links=[i.find('a').get('href') for i in all_items]\n",
    "\n",
    "for c,p,l in zip(contents,prices,links):\n",
    "    print(c.contents[0])\n",
    "    print(p.contents[0])\n",
    "    print('https://shopee.tw/'+l)\n",
    "    print('*------------------*')"
   ]
  },
  {
   "source": [
    "### 完整程式碼(prices 一樣有錯)"
   ],
   "cell_type": "markdown",
   "metadata": {}
  },
  {
   "cell_type": "code",
   "execution_count": null,
   "metadata": {},
   "outputs": [],
   "source": [
    "import requests\n",
    "from bs4 import BeautifulSoup\n",
    "\n",
    "def shopee_scraper(keyword,n_page=0,used=False,new=False):\n",
    "    '''\n",
    "    參數說明:\n",
    "        keyword: 商品名稱關鍵字\n",
    "        n_page: 第幾頁(每頁有50個商品)\n",
    "        used: 是否為二手商品?\n",
    "        new: 是否為新商品?\n",
    "    '''\n",
    "    url = f'https://shopee.tw/search?keyword={keyword}&page={n_page}&sortBy=relevancy'\n",
    "    if used:\n",
    "        url += '&newItem=true'\n",
    "    if new:\n",
    "        url += '&usedItem=true'\n",
    "    \n",
    "    headers = {\n",
    "        'User-Agent': 'Googlebot',\n",
    "        #'From': 'YOUR EMAIL ADDRESS'\n",
    "    }\n",
    "    \n",
    "    r = requests.get(url,headers=headers)\n",
    "    soup = BeautifulSoup(r.text, 'html.parser')\n",
    "    contents = soup.find_all(\"div\", class_=\"_1NoI8_\")\n",
    "    prices = soup.find_all(\"span\", class_=\"_341bF0\")\n",
    "    all_items = soup.find_all(\"div\", class_=\"col-xs-2-4 shopee-search-item-result__item\")\n",
    "    links = [i.find('a').get('href') for i in all_items]\n",
    "    \n",
    "    for c, p, l in zip(contents, prices, links):\n",
    "        print(c.contents[0])\n",
    "        print(p.contents[0])\n",
    "        print('https://shopee.tw/'+l)\n",
    "        print('*---------------------------------*')"
   ]
  },
  {
   "cell_type": "code",
   "execution_count": null,
   "metadata": {
    "tags": []
   },
   "outputs": [],
   "source": [
    "shopee_scraper('ipad air',0)"
   ]
  },
  {
   "source": [
    "## 爬政府電子採購網"
   ],
   "cell_type": "markdown",
   "metadata": {}
  },
  {
   "cell_type": "code",
   "execution_count": null,
   "metadata": {
    "tags": []
   },
   "outputs": [],
   "source": [
    "import requests\n",
    "\n",
    "url = 'https://web.pcc.gov.tw/prkms/prms-searchBulletionClient.do?root=tps'\n",
    "\n",
    "data = {'tmpQuerySentence': None,\n",
    "'timeRange':'109/1/1-109/12/31',\n",
    "'querySentence':'新北市政府',\n",
    "'tenderStatusType':'決標',\n",
    "'sortCol':'AWARD_NOTICE_DATE',\n",
    "'timeRangeTemp':'109/1/1-109/12/31',\n",
    "'sym':'on',\n",
    "'itemPerPage':'10'}\n",
    "\n",
    "r = requests.post(url, data)\n",
    "print(r.ok)\n",
    "print(r.is_redirect)"
   ]
  },
  {
   "cell_type": "code",
   "execution_count": null,
   "metadata": {},
   "outputs": [],
   "source": [
    "import re\n",
    "\n",
    "patterns=['style=\"width:18%;text-align:left\">(.*?)</td>','<div class=\"wordwrap\">(.*?)</div>','style=\"width:9%;text-align:left;min-width:8%;\">(.*?)</td>','style=\"width:15%;text-align:left;min-width:40px;\">(.*?)</td>','href=\"(.*?pkAtmMain.*?)\"']\n",
    "\n",
    "agency_name = re.findall(patterns[0], r.text)  # 機關名稱\n",
    "project_name = re.findall(patterns[1], r.text)  # 標案名稱\n",
    "project_announce_date = re.findall(patterns[2], r.text)  #標案公告日期\n",
    "FF_date_t = re.findall(patterns[3], r.text)  \n",
    "FF_date = [re.findall('\\d\\d\\d\\/\\d\\d\\/\\d\\d',i)[0] for i in FF_date_t] # 決標或無法決標日期\n",
    "Success = ['無法決標' not in i for i in FF_date_t] # 是否得標\n",
    "Detail_url = re.findall(patterns[4], r.text) # 詳細頁面的網址"
   ]
  },
  {
   "cell_type": "code",
   "execution_count": null,
   "metadata": {},
   "outputs": [],
   "source": [
    "detail_content = []\n",
    "for b, d_url in zip(Success, Detail_url):\n",
    "    if b:\n",
    "        r = requests.get('https://web.pcc.gov.tw' + d_url)\n",
    "        if len(r.history) > 0:\n",
    "            print(f'You are redirected to: {r.url}')\n",
    "            break\n",
    "        detail_content.append(r.text)\n",
    "        time.sleep(1)"
   ]
  },
  {
   "cell_type": "code",
   "execution_count": null,
   "metadata": {},
   "outputs": [],
   "source": [
    "import requests\n",
    "import re\n",
    "import pandas as pd\n",
    "\n",
    "def GetTenderData(start_date, end_date, keyword, max_items):\n",
    "   \n",
    "    url = 'https://web.pcc.gov.tw/prkms/prms-searchBulletionClient.do?root=tps'\n",
    "    \n",
    "    data = {'tmpQuerySentence': None,\n",
    "    'timeRange':f'{start_date}-{end_date}',\n",
    "    'querySentence':f'{keyword}',\n",
    "    'tenderStatusType':'決標',\n",
    "    'sortCol':'TENDER_NOTICE_DATE',\n",
    "    'timeRangeTemp':f'{start_date}-{end_date}',\n",
    "    'd-7095067-p':'1',\n",
    "    'sym':'on',\n",
    "    'itemPerPage':f'{max_items}'}\n",
    "    \n",
    "    r = requests.post(url,data = data)\n",
    "\n",
    "    patterns = [\n",
    "            'style=\"width:18%;text-align:left\">(.*?)</td>',\n",
    "            '<div class=\"wordwrap\">(.*?)</div>',\n",
    "            '</a>[\\s\\S]*?width:9%;text-align:left;min-width:8%;\">(.*?)</td>',\n",
    "            '\"width:15%;text-align:left;min-width:40px;\">([\\s\\S]*?)</td>',\n",
    "            'href=\"(.*?pkAtmMain.*?)\"'\n",
    "            ]\n",
    "    agency_name = re.findall(patterns[0], r.text)\n",
    "    project_name = re.findall(patterns[1], r.text)\n",
    "    project_announce_date = re.findall(patterns[2], r.text)\n",
    "    FF_date_t = re.findall(patterns[3], r.text)\n",
    "    FF_date = [re.findall('\\d\\d\\d\\/\\d\\d\\/\\d\\d',i)[0] for i in FF_date_t]\n",
    "    Success = ['無法決標' not in i for i in FF_date_t]\n",
    "    Detail_url = ['https://web.pcc.gov.tw' + u for u in re.findall(patterns[4], r.text)]\n",
    "    \n",
    "    col_names = ['機關名稱','標案名稱','標案公告日期','決標或無法決標日期','是否決標?','標案網址']\n",
    "    \n",
    "    df = pd.DataFrame([agency_name, project_name, project_announce_date,FF_date,Success,Detail_url]).T\n",
    "    df.columns = col_names\n",
    "    df.to_excel('政府電子採購網資料.xlsx',index=False)"
   ]
  },
  {
   "cell_type": "code",
   "execution_count": null,
   "metadata": {
    "tags": []
   },
   "outputs": [],
   "source": [
    "GetTenderData('109/01/01','109/12/31','新北市政府',100)"
   ]
  },
  {
   "cell_type": "code",
   "execution_count": null,
   "metadata": {},
   "outputs": [],
   "source": []
  }
 ]
}